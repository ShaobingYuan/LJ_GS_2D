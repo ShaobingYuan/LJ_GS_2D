{
 "cells": [
  {
   "cell_type": "markdown",
   "id": "2f71ee2b-e92d-46d5-82a7-f2b3d6d13163",
   "metadata": {},
   "source": [
    "The first step is to generate an initial particle configuration. Given the particle number $N$, the function generate_initial_configuration(N) returns the initial coordinates of the particles."
   ]
  },
  {
   "cell_type": "code",
   "execution_count": null,
   "id": "647d3d00-781b-4e6b-8623-217c7b290095",
   "metadata": {},
   "outputs": [],
   "source": [
    "import numpy as np\n",
    "from numba import njit\n",
    "\n",
    "@njit\n",
    "def generate_initial_configuration(N):\n",
    "    # Generate N cities randomly in a 1x1 square box\n",
    "    initial_coordinates = np.random.rand(N, 2)  # Each city is represented by its (x, y) coordinates\n",
    "    return initial_coordinates"
   ]
  },
  {
   "cell_type": "markdown",
   "id": "89c1dc55-cc25-4ced-9d8e-4dfa88977718",
   "metadata": {},
   "source": [
    "Then we define the Lennard-Jones potential. Given the parameter $\\sigma$, the coordinates of particles, and the particle index $i$ and $j$, the function LJ_potential(sigma, coordinates, i, j) returns the interaction energy between the two particles divided by $\\epsilon$."
   ]
  },
  {
   "cell_type": "code",
   "execution_count": null,
   "id": "997d9046-33a2-453d-bb0b-6b55be810a57",
   "metadata": {},
   "outputs": [],
   "source": [
    "@njit\n",
    "def LJ_potential(sigma, coordinates, i, j):\n",
    "    distance = np.sqrt(np.sum((coordinates[i] - coordinates[j]) ** 2))  # Calculate Euclidean distance\n",
    "    \n",
    "    # Find the shortest distance under periodic boundary condition\n",
    "    periodic_displacement = np.array([[1, 0], [-1, 0], [0, 1], [0, -1], [1, 1], [1, -1], [-1, 1], [-1, -1]])\n",
    "    for k in range(8):\n",
    "        new_distance = np.sqrt(np.sum((coordinates[i] + periodic_displacement[k] - coordinates[j]) ** 2))\n",
    "        if new_distance < distance:\n",
    "            distance = new_distance\n",
    "    \n",
    "    r = distance / sigma  # Calculate the renormalized distance\n",
    "    V_LJ = 4 * ( r ** 12 - r ** 6)  # Calculate the interaction energy\n",
    "    return V_LJ"
   ]
  },
  {
   "cell_type": "markdown",
   "id": "8e997d96-027d-401c-b364-44b61b84c84e",
   "metadata": {},
   "source": [
    "Next, we try moving one particle with a random displacement. Given the current particle configuration, the steplength, and the particle index, the function trial_move(coordinates, step_length, i) returns a trial configuration with particle $i$ moved."
   ]
  },
  {
   "cell_type": "code",
   "execution_count": null,
   "id": "d46a7c74-370f-4aee-84f2-680d22258701",
   "metadata": {},
   "outputs": [],
   "source": [
    "@njit\n",
    "def trial_move(coordinates, step_length, i):\n",
    "    trial_coordinates = coordinates[:]\n",
    "    displacement_x = step_length * np.random.rand()  # Displacement in the x direction\n",
    "    displacement_y = step_length * np.random.rand()  # Displacement in the y direction\n",
    "    trial_coordinates[i][0] += displacement_x\n",
    "    trial_coordinates[i][1] += displacement_y\n",
    "    return trial_coordinates"
   ]
  },
  {
   "cell_type": "markdown",
   "id": "1999a3b7-0614-4f14-be87-33f26f8e9903",
   "metadata": {},
   "source": [
    "The next step is to calculate the energy difference and decide whether or not to accept the move. With the particle number, the parameter $\\sigma$, the current particle configuration, the trial particle configuration, the index of the moved particle, the steplength, and the temperature $T$, the function accept_move(N, coordinates, trial_coordinates, i, step_length, T) returns True or False as the decision of whether to accept the move."
   ]
  },
  {
   "cell_type": "code",
   "execution_count": null,
   "id": "9b6060d0-2b9b-4390-898a-e879e751660a",
   "metadata": {},
   "outputs": [],
   "source": [
    "@njit\n",
    "def accept_move(N, sigma, coordinates, trial_coordinates, i, step_length, T):\n",
    "    # Calculate the energy change\n",
    "    Delta_E = 0\n",
    "    for j in range(i):\n",
    "        Delta_E += LJ_potential(sigma, trial_coordinates, i, j)\n",
    "        Delta_E -= LJ_potential(sigma, coordinates, i, j)\n",
    "    for j in range(i + 1, N):\n",
    "        Delta_E += LJ_potential(sigma, trial_coordinates, i, j)\n",
    "        Delta_E -= LJ_potential(sigma, coordinates, i, j)\n",
    "    \n",
    "    # If E is negative, always accept the swap\n",
    "    if Delta_E < 0:\n",
    "        return True\n",
    "    \n",
    "    # If E is positive, accept the swap with probability e^{-E/T}\n",
    "    if np.exp(- Delta_E / T) > np.random.rand():  # Using NumPy's random number generator for speed and efficiency\n",
    "        return True\n",
    "    else:\n",
    "        return False"
   ]
  },
  {
   "cell_type": "markdown",
   "id": "7ddcb5e2-d774-4284-bc1f-e8f962883ed4",
   "metadata": {},
   "source": [
    "Then, we need to define the temperature. Given the initial temperature in terms of $\\epsilon$, the cooling rate, the step number, and the system size, the function temperature(initial_temperature, cooling_rate, step, N) returns the current temperature."
   ]
  },
  {
   "cell_type": "code",
   "execution_count": null,
   "id": "86d0c967-a369-4f17-9f60-fd18eef244ba",
   "metadata": {},
   "outputs": [],
   "source": [
    "@njit\n",
    "def temperature(initial_temperature, cooling_rate, step, N):\n",
    "    # Determine the current step's temperature decrement\n",
    "    temperature_decrement = cooling_rate * initial_temperature  # Decrease by cooling rate times initial temperature\n",
    "    \n",
    "    # Calculate the current temperature based on the step number and decrement\n",
    "    current_temperature = initial_temperature - (step // N) * temperature_decrement\n",
    "    \n",
    "    # Ensure the temperature doesn't fall below a minimum threshold (e.g., a small positive value)\n",
    "    current_temperature = max(current_temperature, 0.01 * temperature_decrement)  # Adjust this minimum threshold as needed\n",
    "    \n",
    "    return current_temperature"
   ]
  }
 ],
 "metadata": {
  "kernelspec": {
   "display_name": "Python 3 (ipykernel)",
   "language": "python",
   "name": "python3"
  },
  "language_info": {
   "codemirror_mode": {
    "name": "ipython",
    "version": 3
   },
   "file_extension": ".py",
   "mimetype": "text/x-python",
   "name": "python",
   "nbconvert_exporter": "python",
   "pygments_lexer": "ipython3",
   "version": "3.12.4"
  }
 },
 "nbformat": 4,
 "nbformat_minor": 5
}
