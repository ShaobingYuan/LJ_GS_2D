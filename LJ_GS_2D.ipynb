{
 "cells": [
  {
   "cell_type": "markdown",
   "id": "2f71ee2b-e92d-46d5-82a7-f2b3d6d13163",
   "metadata": {},
   "source": [
    "The first step is to generate an initial particle configuration. Given the particle number $N$, the function generate_initial_configuration(N) returns the initial coordinates of the particles."
   ]
  },
  {
   "cell_type": "code",
   "execution_count": 2,
   "id": "647d3d00-781b-4e6b-8623-217c7b290095",
   "metadata": {},
   "outputs": [],
   "source": [
    "import numpy as np\n",
    "from numba import njit\n",
    "\n",
    "@njit\n",
    "def generate_initial_configuration(N):\n",
    "    # Generate N cities randomly in a 1x1 square box\n",
    "    initial_coordinates = np.random.rand(N, 2)  # Each city is represented by its (x, y) coordinates\n",
    "    return initial_coordinates"
   ]
  },
  {
   "cell_type": "markdown",
   "id": "89c1dc55-cc25-4ced-9d8e-4dfa88977718",
   "metadata": {},
   "source": [
    "Then we define the Lennard-Jones potential. Given the parameter $\\sigma$, the coordinates of particles, and the particle index $i$ and $j$, the function LJ_potential(sigma, coordinates, i, j) returns the interaction energy between the two particles divided by $\\epsilon$."
   ]
  },
  {
   "cell_type": "code",
   "execution_count": 4,
   "id": "997d9046-33a2-453d-bb0b-6b55be810a57",
   "metadata": {},
   "outputs": [],
   "source": [
    "@njit\n",
    "def LJ_potential(sigma, coordinates, i, j):\n",
    "    distance = np.sqrt(np.sum((coordinates[i] - coordinates[j]) ** 2))  # Calculate Euclidean distance\n",
    "    \n",
    "    # Find the shortest distance under periodic boundary condition\n",
    "    periodic_displacement = np.array([[1, 0], [-1, 0], [0, 1], [0, -1], [1, 1], [1, -1], [-1, 1], [-1, -1]])\n",
    "    for k in range(8):\n",
    "        new_distance = np.sqrt(np.sum((coordinates[i] + periodic_displacement[k] - coordinates[j]) ** 2))\n",
    "        if new_distance < distance:\n",
    "            distance = new_distance\n",
    "    \n",
    "    r = distance / sigma  # Calculate the renormalized distance\n",
    "    V_LJ = 4 * ( r ** (- 12) - r ** (- 6))  # Calculate the interaction energy\n",
    "    return V_LJ"
   ]
  },
  {
   "cell_type": "markdown",
   "id": "8e997d96-027d-401c-b364-44b61b84c84e",
   "metadata": {},
   "source": [
    "Next, we try moving one particle with a random displacement. Given the current particle configuration, the steplength, and the particle index, the function trial_move(coordinates, step_length, i) returns a trial configuration with particle $i$ moved."
   ]
  },
  {
   "cell_type": "code",
   "execution_count": 6,
   "id": "d46a7c74-370f-4aee-84f2-680d22258701",
   "metadata": {},
   "outputs": [],
   "source": [
    "@njit\n",
    "def trial_move(coordinates, step_length, i):\n",
    "    trial_coordinates = coordinates.copy()\n",
    "    displacement_x = step_length * np.random.rand()  # Displacement in the x direction\n",
    "    displacement_y = step_length * np.random.rand()  # Displacement in the y direction\n",
    "    trial_coordinates[i][0] += displacement_x\n",
    "    trial_coordinates[i][0] %= 1\n",
    "    trial_coordinates[i][1] += displacement_y\n",
    "    trial_coordinates[i][1] %= 1\n",
    "    return trial_coordinates"
   ]
  },
  {
   "cell_type": "markdown",
   "id": "1999a3b7-0614-4f14-be87-33f26f8e9903",
   "metadata": {},
   "source": [
    "The next step is to calculate the energy difference and decide whether or not to accept the move. With the particle number, the parameter $\\sigma$, the current particle configuration, the trial particle configuration, the index of the moved particle, the function energy_change(N, coordinates, trial_coordinates, i, T) returns the energy change after the trial move. Given the energy change and the temperature $T$, the function accept_move(Delta_E, T) returns True or False as the decision to accept the move."
   ]
  },
  {
   "cell_type": "code",
   "execution_count": 8,
   "id": "9b6060d0-2b9b-4390-898a-e879e751660a",
   "metadata": {},
   "outputs": [],
   "source": [
    "@njit\n",
    "def energy_change(N, sigma, coordinates, trial_coordinates, i):\n",
    "    # Calculate the energy change\n",
    "    Delta_E = 0\n",
    "    for j in range(i):\n",
    "        Delta_E += LJ_potential(sigma, trial_coordinates, i, j)\n",
    "        Delta_E -= LJ_potential(sigma, coordinates, i, j)\n",
    "    for j in range(i + 1, N):\n",
    "        Delta_E += LJ_potential(sigma, trial_coordinates, i, j)\n",
    "        Delta_E -= LJ_potential(sigma, coordinates, i, j)\n",
    "    \n",
    "    return Delta_E"
   ]
  },
  {
   "cell_type": "code",
   "execution_count": 9,
   "id": "00f009cf-9fcf-449c-b7fa-cb1db5b6578f",
   "metadata": {},
   "outputs": [],
   "source": [
    "@njit\n",
    "def accept_move(Delta_E, T):\n",
    "    \n",
    "    # If Delta_E is negative, always accept the move\n",
    "    if Delta_E < 0:\n",
    "        return True\n",
    "    \n",
    "    # If E is positive, accept the move with probability e^{-E/T}\n",
    "    if np.exp(- Delta_E / T) > np.random.rand():  # Using NumPy's random number generator for speed and efficiency\n",
    "        return True\n",
    "    else:\n",
    "        return False"
   ]
  },
  {
   "cell_type": "markdown",
   "id": "7ddcb5e2-d774-4284-bc1f-e8f962883ed4",
   "metadata": {},
   "source": [
    "Then, we need to define the temperature. Given the initial temperature in terms of $\\epsilon$, the cooling rate, the iteration number, and the function temperature(initial_temperature, cooling_rate, iteration) returns the current temperature."
   ]
  },
  {
   "cell_type": "code",
   "execution_count": 11,
   "id": "86d0c967-a369-4f17-9f60-fd18eef244ba",
   "metadata": {},
   "outputs": [],
   "source": [
    "@njit\n",
    "def temperature(initial_temperature, cooling_rate, iteration):\n",
    "    \n",
    "    current_temperature = initial_temperature * ((1 - cooling_rate) ** iteration)\n",
    "    \n",
    "    return current_temperature"
   ]
  },
  {
   "cell_type": "markdown",
   "id": "523cc0ea-0518-404d-9ae6-a7c98029abe0",
   "metadata": {},
   "source": [
    "Now we are ready to search for the ground state configuration. Given the system size, the interaction parameter $\\sigma$, the step length, the initial temperature, and the cooling rate, the function find_GS(N, sigma, step_length, initial_temperature, cooling_rate) returns the ground state particle configuration as well as a record of the energy and temperature."
   ]
  },
  {
   "cell_type": "code",
   "execution_count": 13,
   "id": "6e499594-2533-493c-8168-c1efadcdd00e",
   "metadata": {},
   "outputs": [],
   "source": [
    "@njit\n",
    "def find_GS(N, sigma, step_length, initial_temperature, cooling_rate):\n",
    "    coordinates = generate_initial_configuration(N)  # Initial configuration\n",
    "    moving = True  # Not yet converged\n",
    "    iteration = 0  # Iteration number\n",
    "    E = 0\n",
    "    energy = []\n",
    "    temp = []\n",
    "    \n",
    "    # Let it approach equilibrium\n",
    "    T = initial_temperature\n",
    "    for k in range(15*N):\n",
    "        for i in range(N):\n",
    "            trial_coordinates = trial_move(coordinates, sigma, i)\n",
    "            Delta_E = energy_change(N, sigma, coordinates, trial_coordinates, i)\n",
    "            if accept_move(Delta_E, T):\n",
    "                coordinates = trial_coordinates.copy()\n",
    "    for k in range(15*N):\n",
    "        for i in range(N):\n",
    "            trial_coordinates = trial_move(coordinates, 10 * step_length, i)\n",
    "            Delta_E = energy_change(N, sigma, coordinates, trial_coordinates, i)\n",
    "            if accept_move(Delta_E, T):\n",
    "                coordinates = trial_coordinates.copy()\n",
    "    for k in range(15*N):\n",
    "        for i in range(N):\n",
    "            trial_coordinates = trial_move(coordinates, 4 * step_length, i)\n",
    "            Delta_E = energy_change(N, sigma, coordinates, trial_coordinates, i)\n",
    "            if accept_move(Delta_E, T):\n",
    "                coordinates = trial_coordinates.copy()\n",
    "\n",
    "    # Cool it down\n",
    "    while moving:\n",
    "        moving = False\n",
    "        T = temperature(initial_temperature, cooling_rate, iteration)\n",
    "        for k in range(2):\n",
    "            for i in range(N):\n",
    "                trial_coordinates = trial_move(coordinates, step_length, i)\n",
    "                Delta_E = energy_change(N, sigma, coordinates, trial_coordinates, i)\n",
    "                if accept_move(Delta_E, T):\n",
    "                    coordinates = trial_coordinates.copy()\n",
    "                    E += Delta_E\n",
    "                    moving = True\n",
    "                energy.append(E)\n",
    "                temp.append(T)\n",
    "        iteration += 1\n",
    "    \n",
    "    return coordinates, energy, temp"
   ]
  },
  {
   "cell_type": "markdown",
   "id": "b6ec1e6e-01f5-4a74-958c-9b90ce585851",
   "metadata": {},
   "source": [
    "We would like to plot the ground state configuration."
   ]
  },
  {
   "cell_type": "code",
   "execution_count": 15,
   "id": "82c3e468-31ef-4424-a8c2-abf2dbc24445",
   "metadata": {},
   "outputs": [],
   "source": [
    "import matplotlib.pyplot as plt\n",
    "\n",
    "def plot_GS(coordinates, N, sigma):\n",
    "    # Create the plot\n",
    "    plt.figure(figsize=(6, 6))  # Set the figure size to visualize the square region\n",
    "    plt.axis(\"equal\")  # Equal aspect ratio\n",
    "    plt.xlim(-0.2, 1.2)  # Set the limits of the x-axis to match the square region\n",
    "    plt.ylim(-0.2, 1.2)  # Set the limits of the y-axis to match the square region\n",
    "    \n",
    "    x, y = coordinates[:, 0], coordinates[:, 1]\n",
    "    plt.scatter(x, y, zorder=2, s=10)\n",
    "    \n",
    "    periodic_displacement_1 = np.array([[-1, 0], [0, -1], [-1, 1], [-1, -1]])\n",
    "    periodic_displacement_2 = np.array([[1, 0], [0, 1], [1, 1], [1, -1]])\n",
    "    \n",
    "    for dx, dy in periodic_displacement_1:\n",
    "        plt.scatter(x + dx, y + dy, color='red', alpha=0.5, zorder=1, s=10)\n",
    "    \n",
    "    for dx, dy in periodic_displacement_2:\n",
    "        plt.scatter(x + dx, y + dy, color='red', alpha=0.5, zorder=3, s=10)\n",
    "\n",
    "    plt.title(f'Ground State Configuration with {N} particles, sigma = {sigma:.2g}')\n",
    "    plt.xlabel('X Coordinate')\n",
    "    plt.ylabel('Y Coordinate')\n",
    "    plt.tick_params(direction='in')\n",
    "    \n",
    "    plt.axhline(0, color='grey', linestyle='--', lw=1)\n",
    "    plt.axhline(1, color='grey', linestyle='--', lw=1)\n",
    "    plt.axvline(0, color='grey', linestyle='--', lw=1)\n",
    "    plt.axvline(1, color='grey', linestyle='--', lw=1)\n",
    "    \n",
    "    plt.gca().set_aspect('equal', adjustable='box')\n",
    "    plt.savefig(f\"GS_{N}_{sigma:.2g}.pdf\", dpi=600)\n",
    "    plt.show()"
   ]
  },
  {
   "cell_type": "markdown",
   "id": "605957d2-4438-49e7-a63e-397d11ec6d29",
   "metadata": {},
   "source": [
    "We also want to plot the energy change with respect to time."
   ]
  },
  {
   "cell_type": "code",
   "execution_count": 17,
   "id": "1ce759b3-8061-4764-9035-9c48dca2f62b",
   "metadata": {},
   "outputs": [],
   "source": [
    "def plot_energy_change(energy, temp, N, sigma):\n",
    "    fig, ax1 = plt.subplots()\n",
    "    \n",
    "    # Plot energy change\n",
    "    ax1.plot(energy, 'b-', label='Relative Energy Change')\n",
    "    ax1.set_xlabel('Time')\n",
    "    ax1.set_ylabel('Relative Energy Change')\n",
    "    ax1.tick_params(direction='in')\n",
    "\n",
    "    \n",
    "    # Plot temperature\n",
    "    ax2 = ax1.twinx()\n",
    "    ax2.plot(temp, 'r-', label='Temperature')\n",
    "    ax2.set_ylabel('Temperature')\n",
    "    ax2.tick_params(direction='in')\n",
    "    \n",
    "    fig.legend(bbox_to_anchor=(0.8,0.9))\n",
    "    \n",
    "    # Title\n",
    "    plt.title(f'Relative Energy Change While Cooling down, N = {N}, sigma = {sigma:.2g}')\n",
    "    \n",
    "    # Show\n",
    "    fig.tight_layout()\n",
    "    plt.savefig(f\"Energy_Change_{N}_{sigma:.2g}.pdf\", dpi=600)\n",
    "    plt.show()"
   ]
  },
  {
   "cell_type": "markdown",
   "id": "4a32a915-9325-439a-940e-052c123e9bb0",
   "metadata": {},
   "source": [
    "The ground state energy per particle can also be calculated."
   ]
  },
  {
   "cell_type": "code",
   "execution_count": 19,
   "id": "8d3d7acf-3d5d-4242-86c6-1b843479ca62",
   "metadata": {},
   "outputs": [],
   "source": [
    "def GS_average_energy(coordinates, N, sigma):\n",
    "    E_0 = 0\n",
    "    for i in range(N):\n",
    "        for j in range(i + 1, N):\n",
    "            E_0 += LJ_potential(sigma, coordinates, i, j)\n",
    "    epsilon_0 = E_0 / N\n",
    "    return epsilon_0"
   ]
  },
  {
   "cell_type": "markdown",
   "id": "ae33a048-4268-4045-b8aa-d59c9e726448",
   "metadata": {},
   "source": [
    "We can give it a try."
   ]
  },
  {
   "cell_type": "code",
   "execution_count": null,
   "id": "1ff93086-9357-4375-98c7-fd9920982656",
   "metadata": {},
   "outputs": [],
   "source": [
    "import time\n",
    "\n",
    "N = 300\n",
    "sigma = (2 ** (1 / 3)) * (3 ** (- 1 / 4)) * (N ** ( - 0.5))\n",
    "step_length = 0.025 * sigma\n",
    "initial_temperature = 0.1\n",
    "cooling_rate = 0.05\n",
    "\n",
    "time1 = time.time()\n",
    "coordinates, energy, temp = find_GS(N, sigma, step_length, initial_temperature, cooling_rate)\n",
    "time2 = time.time()\n",
    "\n",
    "print(\"elapsed time = \", time2 - time1)\n",
    "    \n",
    "plot_GS(coordinates, N, sigma)\n",
    "plot_energy_change(energy, temp, N, sigma)\n",
    "print(GS_average_energy(coordinates, N, sigma))"
   ]
  }
 ],
 "metadata": {
  "kernelspec": {
   "display_name": "Python 3 (ipykernel)",
   "language": "python",
   "name": "python3"
  },
  "language_info": {
   "codemirror_mode": {
    "name": "ipython",
    "version": 3
   },
   "file_extension": ".py",
   "mimetype": "text/x-python",
   "name": "python",
   "nbconvert_exporter": "python",
   "pygments_lexer": "ipython3",
   "version": "3.12.4"
  }
 },
 "nbformat": 4,
 "nbformat_minor": 5
}
